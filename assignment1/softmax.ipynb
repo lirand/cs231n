{
 "cells": [
  {
   "cell_type": "markdown",
   "metadata": {
    "tags": [
     "pdf-title"
    ]
   },
   "source": [
    "# Softmax exercise\n",
    "\n",
    "*Complete and hand in this completed worksheet (including its outputs and any supporting code outside of the worksheet) with your assignment submission. For more details see the [assignments page](http://vision.stanford.edu/teaching/cs231n/assignments.html) on the course website.*\n",
    "\n",
    "This exercise is analogous to the SVM exercise. You will:\n",
    "\n",
    "- implement a fully-vectorized **loss function** for the Softmax classifier\n",
    "- implement the fully-vectorized expression for its **analytic gradient**\n",
    "- **check your implementation** with numerical gradient\n",
    "- use a validation set to **tune the learning rate and regularization** strength\n",
    "- **optimize** the loss function with **SGD**\n",
    "- **visualize** the final learned weights\n"
   ]
  },
  {
   "cell_type": "code",
   "execution_count": 8,
   "metadata": {
    "tags": [
     "pdf-ignore"
    ]
   },
   "outputs": [
    {
     "name": "stdout",
     "output_type": "stream",
     "text": [
      "The autoreload extension is already loaded. To reload it, use:\n",
      "  %reload_ext autoreload\n"
     ]
    }
   ],
   "source": [
    "import random\n",
    "import numpy as np\n",
    "from cs231n.data_utils import load_CIFAR10\n",
    "import matplotlib.pyplot as plt\n",
    "\n",
    "%matplotlib inline\n",
    "plt.rcParams['figure.figsize'] = (10.0, 8.0) # set default size of plots\n",
    "plt.rcParams['image.interpolation'] = 'nearest'\n",
    "plt.rcParams['image.cmap'] = 'gray'\n",
    "\n",
    "# for auto-reloading extenrnal modules\n",
    "# see http://stackoverflow.com/questions/1907993/autoreload-of-modules-in-ipython\n",
    "%load_ext autoreload\n",
    "%autoreload 2"
   ]
  },
  {
   "cell_type": "code",
   "execution_count": 9,
   "metadata": {
    "tags": [
     "pdf-ignore"
    ]
   },
   "outputs": [
    {
     "name": "stdout",
     "output_type": "stream",
     "text": [
      "Train data shape:  (49000, 3073)\n",
      "Train labels shape:  (49000,)\n",
      "Validation data shape:  (1000, 3073)\n",
      "Validation labels shape:  (1000,)\n",
      "Test data shape:  (1000, 3073)\n",
      "Test labels shape:  (1000,)\n",
      "dev data shape:  (500, 3073)\n",
      "dev labels shape:  (500,)\n"
     ]
    }
   ],
   "source": [
    "def get_CIFAR10_data(num_training=49000, num_validation=1000, num_test=1000, num_dev=500):\n",
    "    \"\"\"\n",
    "    Load the CIFAR-10 dataset from disk and perform preprocessing to prepare\n",
    "    it for the linear classifier. These are the same steps as we used for the\n",
    "    SVM, but condensed to a single function.  \n",
    "    \"\"\"\n",
    "    # Load the raw CIFAR-10 data\n",
    "    cifar10_dir = 'cs231n/datasets/cifar-10-batches-py'\n",
    "    \n",
    "    # Cleaning up variables to prevent loading data multiple times (which may cause memory issue)\n",
    "    try:\n",
    "       del X_train, y_train\n",
    "       del X_test, y_test\n",
    "       print('Clear previously loaded data.')\n",
    "    except:\n",
    "       pass\n",
    "\n",
    "    X_train, y_train, X_test, y_test = load_CIFAR10(cifar10_dir)\n",
    "    \n",
    "    # subsample the data\n",
    "    mask = list(range(num_training, num_training + num_validation))\n",
    "    X_val = X_train[mask]\n",
    "    y_val = y_train[mask]\n",
    "    mask = list(range(num_training))\n",
    "    X_train = X_train[mask]\n",
    "    y_train = y_train[mask]\n",
    "    mask = list(range(num_test))\n",
    "    X_test = X_test[mask]\n",
    "    y_test = y_test[mask]\n",
    "    mask = np.random.choice(num_training, num_dev, replace=False)\n",
    "    X_dev = X_train[mask]\n",
    "    y_dev = y_train[mask]\n",
    "    \n",
    "    # Preprocessing: reshape the image data into rows\n",
    "    X_train = np.reshape(X_train, (X_train.shape[0], -1))\n",
    "    X_val = np.reshape(X_val, (X_val.shape[0], -1))\n",
    "    X_test = np.reshape(X_test, (X_test.shape[0], -1))\n",
    "    X_dev = np.reshape(X_dev, (X_dev.shape[0], -1))\n",
    "    \n",
    "    # Normalize the data: subtract the mean image\n",
    "    mean_image = np.mean(X_train, axis = 0)\n",
    "    X_train -= mean_image\n",
    "    X_val -= mean_image\n",
    "    X_test -= mean_image\n",
    "    X_dev -= mean_image\n",
    "    \n",
    "    # add bias dimension and transform into columns\n",
    "    X_train = np.hstack([X_train, np.ones((X_train.shape[0], 1))])\n",
    "    X_val = np.hstack([X_val, np.ones((X_val.shape[0], 1))])\n",
    "    X_test = np.hstack([X_test, np.ones((X_test.shape[0], 1))])\n",
    "    X_dev = np.hstack([X_dev, np.ones((X_dev.shape[0], 1))])\n",
    "    \n",
    "    return X_train, y_train, X_val, y_val, X_test, y_test, X_dev, y_dev\n",
    "\n",
    "\n",
    "# Invoke the above function to get our data.\n",
    "X_train, y_train, X_val, y_val, X_test, y_test, X_dev, y_dev = get_CIFAR10_data()\n",
    "print('Train data shape: ', X_train.shape)\n",
    "print('Train labels shape: ', y_train.shape)\n",
    "print('Validation data shape: ', X_val.shape)\n",
    "print('Validation labels shape: ', y_val.shape)\n",
    "print('Test data shape: ', X_test.shape)\n",
    "print('Test labels shape: ', y_test.shape)\n",
    "print('dev data shape: ', X_dev.shape)\n",
    "print('dev labels shape: ', y_dev.shape)"
   ]
  },
  {
   "cell_type": "markdown",
   "metadata": {},
   "source": [
    "## Softmax Classifier\n",
    "\n",
    "Your code for this section will all be written inside **cs231n/classifiers/softmax.py**. \n"
   ]
  },
  {
   "cell_type": "code",
   "execution_count": 10,
   "metadata": {
    "scrolled": true
   },
   "outputs": [
    {
     "name": "stdout",
     "output_type": "stream",
     "text": [
      "loss: 2.354052\n",
      "sanity check: 2.302585\n"
     ]
    }
   ],
   "source": [
    "# First implement the naive softmax loss function with nested loops.\n",
    "# Open the file cs231n/classifiers/softmax.py and implement the\n",
    "# softmax_loss_naive function.\n",
    "\n",
    "from cs231n.classifiers.softmax import softmax_loss_naive\n",
    "import time\n",
    "\n",
    "# Generate a random softmax weight matrix and use it to compute the loss.\n",
    "W = np.random.randn(3073, 10) * 0.0001\n",
    "loss, grad = softmax_loss_naive(W, X_dev, y_dev, 0.0)\n",
    "\n",
    "# As a rough sanity check, our loss should be something close to -log(0.1).\n",
    "print('loss: %f' % loss)\n",
    "print('sanity check: %f' % (-np.log(0.1)))"
   ]
  },
  {
   "cell_type": "markdown",
   "metadata": {
    "tags": [
     "pdf-inline"
    ]
   },
   "source": [
    "**Inline Question 1**\n",
    "\n",
    "Why do we expect our loss to be close to -log(0.1)? Explain briefly.**\n",
    "\n",
    "$\\color{blue}{\\textit Your Answer:}$ *Fill this in* \n",
    "\n"
   ]
  },
  {
   "cell_type": "code",
   "execution_count": 11,
   "metadata": {
    "scrolled": true
   },
   "outputs": [
    {
     "name": "stdout",
     "output_type": "stream",
     "text": [
      "numerical: -0.832057 analytic: -0.832058, relative error: 6.235036e-08\n",
      "numerical: 1.830582 analytic: 1.830582, relative error: 5.317324e-09\n",
      "numerical: -5.377603 analytic: -5.377604, relative error: 5.700896e-09\n",
      "numerical: -1.884808 analytic: -1.884807, relative error: 1.684133e-08\n",
      "numerical: 2.459540 analytic: 2.459540, relative error: 1.164593e-08\n",
      "numerical: 4.978105 analytic: 4.978105, relative error: 1.011729e-08\n",
      "numerical: 0.244230 analytic: 0.244230, relative error: 1.458116e-07\n",
      "numerical: -3.418279 analytic: -3.418279, relative error: 4.184600e-09\n",
      "numerical: 2.163518 analytic: 2.163518, relative error: 3.422347e-08\n",
      "numerical: 0.563769 analytic: 0.563769, relative error: 8.782453e-09\n",
      "numerical: -3.063176 analytic: -3.063176, relative error: 2.165509e-08\n",
      "numerical: 1.100068 analytic: 1.100068, relative error: 6.429727e-08\n",
      "numerical: -4.469560 analytic: -4.469560, relative error: 1.609884e-08\n",
      "numerical: 2.777271 analytic: 2.777271, relative error: 7.085040e-09\n",
      "numerical: 0.233531 analytic: 0.233531, relative error: 3.077111e-08\n",
      "numerical: 0.506430 analytic: 0.506430, relative error: 2.436737e-08\n",
      "numerical: -0.176321 analytic: -0.176321, relative error: 1.576399e-07\n",
      "numerical: 0.752726 analytic: 0.752725, relative error: 9.252957e-08\n",
      "numerical: 0.974093 analytic: 0.974093, relative error: 1.769821e-08\n",
      "numerical: 1.794006 analytic: 1.794006, relative error: 2.454239e-08\n"
     ]
    }
   ],
   "source": [
    "# Complete the implementation of softmax_loss_naive and implement a (naive)\n",
    "# version of the gradient that uses nested loops.\n",
    "loss, grad = softmax_loss_naive(W, X_dev, y_dev, 0.0)\n",
    "\n",
    "# As we did for the SVM, use numeric gradient checking as a debugging tool.\n",
    "# The numeric gradient should be close to the analytic gradient.\n",
    "from cs231n.gradient_check import grad_check_sparse\n",
    "f = lambda w: softmax_loss_naive(w, X_dev, y_dev, 0.0)[0]\n",
    "grad_numerical = grad_check_sparse(f, W, grad, 10)\n",
    "\n",
    "# similar to SVM case, do another gradient check with regularization\n",
    "loss, grad = softmax_loss_naive(W, X_dev, y_dev, 5e1)\n",
    "f = lambda w: softmax_loss_naive(w, X_dev, y_dev, 5e1)[0]\n",
    "grad_numerical = grad_check_sparse(f, W, grad, 10)"
   ]
  },
  {
   "cell_type": "code",
   "execution_count": 12,
   "metadata": {
    "scrolled": true
   },
   "outputs": [
    {
     "name": "stdout",
     "output_type": "stream",
     "text": [
      "naive loss: 2.354052e+00 computed in 0.098516s\n",
      "vectorized loss: 2.354052e+00 computed in 0.012590s\n",
      "Loss difference: 0.000000\n",
      "Gradient difference: 0.000000\n"
     ]
    }
   ],
   "source": [
    "# Now that we have a naive implementation of the softmax loss function and its gradient,\n",
    "# implement a vectorized version in softmax_loss_vectorized.\n",
    "# The two versions should compute the same results, but the vectorized version should be\n",
    "# much faster.\n",
    "tic = time.time()\n",
    "loss_naive, grad_naive = softmax_loss_naive(W, X_dev, y_dev, 0.000005)\n",
    "toc = time.time()\n",
    "print('naive loss: %e computed in %fs' % (loss_naive, toc - tic))\n",
    "\n",
    "from cs231n.classifiers.softmax import softmax_loss_vectorized\n",
    "tic = time.time()\n",
    "loss_vectorized, grad_vectorized = softmax_loss_vectorized(W, X_dev, y_dev, 0.000005)\n",
    "toc = time.time()\n",
    "print('vectorized loss: %e computed in %fs' % (loss_vectorized, toc - tic))\n",
    "\n",
    "# As we did for the SVM, we use the Frobenius norm to compare the two versions\n",
    "# of the gradient.\n",
    "grad_difference = np.linalg.norm(grad_naive - grad_vectorized, ord='fro')\n",
    "print('Loss difference: %f' % np.abs(loss_naive - loss_vectorized))\n",
    "print('Gradient difference: %f' % grad_difference)"
   ]
  },
  {
   "cell_type": "code",
   "execution_count": 18,
   "metadata": {
    "tags": [
     "code"
    ]
   },
   "outputs": [
    {
     "name": "stdout",
     "output_type": "stream",
     "text": [
      "iteration 0 / 1500: loss 780.220965\n",
      "iteration 100 / 1500: loss 286.505829\n",
      "iteration 200 / 1500: loss 106.164226\n",
      "iteration 300 / 1500: loss 40.133959\n",
      "iteration 400 / 1500: loss 15.981530\n",
      "iteration 500 / 1500: loss 7.200670\n",
      "iteration 600 / 1500: loss 3.955472\n",
      "iteration 700 / 1500: loss 2.810405\n",
      "iteration 800 / 1500: loss 2.349074\n",
      "iteration 900 / 1500: loss 2.091932\n",
      "iteration 1000 / 1500: loss 2.108698\n",
      "iteration 1100 / 1500: loss 2.090692\n",
      "iteration 1200 / 1500: loss 2.145924\n",
      "iteration 1300 / 1500: loss 2.050039\n",
      "iteration 1400 / 1500: loss 2.110666\n",
      "iteration 0 / 1500: loss 1161.808891\n",
      "iteration 100 / 1500: loss 258.314225\n",
      "iteration 200 / 1500: loss 58.759319\n",
      "iteration 300 / 1500: loss 14.649183\n",
      "iteration 400 / 1500: loss 4.879613\n",
      "iteration 500 / 1500: loss 2.756874\n",
      "iteration 600 / 1500: loss 2.289300\n",
      "iteration 700 / 1500: loss 2.175691\n",
      "iteration 800 / 1500: loss 2.151274\n",
      "iteration 900 / 1500: loss 2.163590\n",
      "iteration 1000 / 1500: loss 2.136824\n",
      "iteration 1100 / 1500: loss 2.178985\n",
      "iteration 1200 / 1500: loss 2.118549\n",
      "iteration 1300 / 1500: loss 2.078111\n",
      "iteration 1400 / 1500: loss 2.128459\n",
      "iteration 0 / 1500: loss 1538.212509\n",
      "iteration 100 / 1500: loss 207.147266\n",
      "iteration 200 / 1500: loss 29.503262\n",
      "iteration 300 / 1500: loss 5.814900\n",
      "iteration 400 / 1500: loss 2.633685\n",
      "iteration 500 / 1500: loss 2.185050\n",
      "iteration 600 / 1500: loss 2.165466\n",
      "iteration 700 / 1500: loss 2.134919\n",
      "iteration 800 / 1500: loss 2.134316\n",
      "iteration 900 / 1500: loss 2.126364\n",
      "iteration 1000 / 1500: loss 2.189208\n",
      "iteration 1100 / 1500: loss 2.098890\n",
      "iteration 1200 / 1500: loss 2.108234\n",
      "iteration 1300 / 1500: loss 2.116830\n",
      "iteration 1400 / 1500: loss 2.138439\n",
      "iteration 0 / 1500: loss 774.258591\n",
      "iteration 100 / 1500: loss 39.378258\n",
      "iteration 200 / 1500: loss 3.898223\n",
      "iteration 300 / 1500: loss 2.158352\n",
      "iteration 400 / 1500: loss 2.074085\n",
      "iteration 500 / 1500: loss 2.107603\n",
      "iteration 600 / 1500: loss 2.132069\n",
      "iteration 700 / 1500: loss 2.073909\n",
      "iteration 800 / 1500: loss 2.114476\n",
      "iteration 900 / 1500: loss 2.101575\n",
      "iteration 1000 / 1500: loss 2.168338\n",
      "iteration 1100 / 1500: loss 2.119851\n",
      "iteration 1200 / 1500: loss 2.073072\n",
      "iteration 1300 / 1500: loss 2.092656\n",
      "iteration 1400 / 1500: loss 2.066145\n",
      "iteration 0 / 1500: loss 1161.881834\n",
      "iteration 100 / 1500: loss 14.242947\n",
      "iteration 200 / 1500: loss 2.254111\n",
      "iteration 300 / 1500: loss 2.165558\n",
      "iteration 400 / 1500: loss 2.097638\n",
      "iteration 500 / 1500: loss 2.091432\n",
      "iteration 600 / 1500: loss 2.064678\n",
      "iteration 700 / 1500: loss 2.097712\n",
      "iteration 800 / 1500: loss 2.136178\n",
      "iteration 900 / 1500: loss 2.132876\n",
      "iteration 1000 / 1500: loss 2.071872\n",
      "iteration 1100 / 1500: loss 2.112437\n",
      "iteration 1200 / 1500: loss 2.082183\n",
      "iteration 1300 / 1500: loss 2.103015\n",
      "iteration 1400 / 1500: loss 2.178792\n",
      "iteration 0 / 1500: loss 1519.135337\n",
      "iteration 100 / 1500: loss 5.590674\n",
      "iteration 200 / 1500: loss 2.199160\n",
      "iteration 300 / 1500: loss 2.121753\n",
      "iteration 400 / 1500: loss 2.125526\n",
      "iteration 500 / 1500: loss 2.202022\n",
      "iteration 600 / 1500: loss 2.142334\n",
      "iteration 700 / 1500: loss 2.132234\n",
      "iteration 800 / 1500: loss 2.161389\n",
      "iteration 900 / 1500: loss 2.160987\n",
      "iteration 1000 / 1500: loss 2.179175\n",
      "iteration 1100 / 1500: loss 2.112303\n",
      "iteration 1200 / 1500: loss 2.118509\n",
      "iteration 1300 / 1500: loss 2.145617\n",
      "iteration 1400 / 1500: loss 2.170678\n",
      "iteration 0 / 1500: loss 778.835796\n",
      "iteration 100 / 1500: loss 6.933466\n",
      "iteration 200 / 1500: loss 2.101321\n",
      "iteration 300 / 1500: loss 2.132598\n",
      "iteration 400 / 1500: loss 2.083291\n",
      "iteration 500 / 1500: loss 2.142159\n",
      "iteration 600 / 1500: loss 2.100135\n",
      "iteration 700 / 1500: loss 2.060016\n",
      "iteration 800 / 1500: loss 2.072923\n",
      "iteration 900 / 1500: loss 2.116079\n",
      "iteration 1000 / 1500: loss 2.103104\n",
      "iteration 1100 / 1500: loss 2.049474\n",
      "iteration 1200 / 1500: loss 2.098740\n",
      "iteration 1300 / 1500: loss 2.096496\n",
      "iteration 1400 / 1500: loss 2.043821\n",
      "iteration 0 / 1500: loss 1169.791134\n",
      "iteration 100 / 1500: loss 2.669391\n",
      "iteration 200 / 1500: loss 2.127873\n",
      "iteration 300 / 1500: loss 2.157141\n",
      "iteration 400 / 1500: loss 2.097559\n",
      "iteration 500 / 1500: loss 2.133407\n",
      "iteration 600 / 1500: loss 2.120338\n",
      "iteration 700 / 1500: loss 2.129506\n",
      "iteration 800 / 1500: loss 2.131091\n",
      "iteration 900 / 1500: loss 2.095510\n",
      "iteration 1000 / 1500: loss 2.182140\n",
      "iteration 1100 / 1500: loss 2.099067\n",
      "iteration 1200 / 1500: loss 2.168122\n",
      "iteration 1300 / 1500: loss 2.106175\n",
      "iteration 1400 / 1500: loss 2.150363\n",
      "iteration 0 / 1500: loss 1558.515714\n",
      "iteration 100 / 1500: loss 2.199061\n",
      "iteration 200 / 1500: loss 2.166397\n",
      "iteration 300 / 1500: loss 2.162744\n",
      "iteration 400 / 1500: loss 2.155622\n",
      "iteration 500 / 1500: loss 2.194050\n",
      "iteration 600 / 1500: loss 2.149056\n",
      "iteration 700 / 1500: loss 2.129143\n",
      "iteration 800 / 1500: loss 2.166898\n",
      "iteration 900 / 1500: loss 2.156198\n",
      "iteration 1000 / 1500: loss 2.141532\n",
      "iteration 1100 / 1500: loss 2.154191\n",
      "iteration 1200 / 1500: loss 2.189319\n",
      "iteration 1300 / 1500: loss 2.170224\n",
      "iteration 1400 / 1500: loss 2.146389\n",
      "lr 1.000000e-07 reg 2.500000e+04 train accuracy: 0.329265 val accuracy: 0.340000\n",
      "lr 1.000000e-07 reg 3.750000e+04 train accuracy: 0.309918 val accuracy: 0.328000\n",
      "lr 1.000000e-07 reg 5.000000e+04 train accuracy: 0.299122 val accuracy: 0.320000\n",
      "lr 3.000000e-07 reg 2.500000e+04 train accuracy: 0.325224 val accuracy: 0.345000\n",
      "lr 3.000000e-07 reg 3.750000e+04 train accuracy: 0.303347 val accuracy: 0.323000\n",
      "lr 3.000000e-07 reg 5.000000e+04 train accuracy: 0.306980 val accuracy: 0.325000\n",
      "lr 5.000000e-07 reg 2.500000e+04 train accuracy: 0.319592 val accuracy: 0.319000\n",
      "lr 5.000000e-07 reg 3.750000e+04 train accuracy: 0.311878 val accuracy: 0.332000\n",
      "lr 5.000000e-07 reg 5.000000e+04 train accuracy: 0.297286 val accuracy: 0.304000\n",
      "best validation accuracy achieved during cross-validation: 0.345000\n"
     ]
    }
   ],
   "source": [
    "# Use the validation set to tune hyperparameters (regularization strength and\n",
    "# learning rate). You should experiment with different ranges for the learning\n",
    "# rates and regularization strengths; if you are careful you should be able to\n",
    "# get a classification accuracy of over 0.35 on the validation set.\n",
    "from cs231n.classifiers import Softmax\n",
    "results = {}\n",
    "best_val = -1\n",
    "best_softmax = None\n",
    "learning_rates = [1e-7, 5e-7]\n",
    "regularization_strengths = [2.5e4, 5e4]\n",
    "\n",
    "################################################################################\n",
    "# TODO:                                                                        #\n",
    "# Use the validation set to set the learning rate and regularization strength. #\n",
    "# This should be identical to the validation that you did for the SVM; save    #\n",
    "# the best trained softmax classifer in best_softmax.                          #\n",
    "################################################################################\n",
    "# *****START OF YOUR CODE (DO NOT DELETE/MODIFY THIS LINE)*****\n",
    "\n",
    "RANGE = 3\n",
    "range_lr = np.linspace(learning_rates[0], learning_rates[-1], RANGE)\n",
    "range_rs = np.linspace(regularization_strengths[0], regularization_strengths[-1], RANGE)\n",
    "hp_comb = [(lr, rs) for lr in range_lr for rs in range_rs]\n",
    "\n",
    "for lr, rs in hp_comb:\n",
    "    model = Softmax()\n",
    "    \n",
    "    model.train(X_train, y_train, learning_rate=lr, reg=rs, num_iters=1500, verbose=True)\n",
    "    \n",
    "    y_train_pred = model.predict(X_train)\n",
    "    y_val_pred = model.predict(X_val)\n",
    "    \n",
    "    train_acc = np.mean(y_train == y_train_pred)\n",
    "    val_acc = np.mean(y_val == y_val_pred)\n",
    "    \n",
    "    results[(lr, rs)] = (train_acc, val_acc)\n",
    "    if val_acc > best_val:\n",
    "        best_val = val_acc\n",
    "        best_softmax = model\n",
    "    \n",
    "\n",
    "pass\n",
    "\n",
    "# *****END OF YOUR CODE (DO NOT DELETE/MODIFY THIS LINE)*****\n",
    "    \n",
    "# Print out results.\n",
    "for lr, reg in sorted(results):\n",
    "    train_accuracy, val_accuracy = results[(lr, reg)]\n",
    "    print('lr %e reg %e train accuracy: %f val accuracy: %f' % (\n",
    "                lr, reg, train_accuracy, val_accuracy))\n",
    "    \n",
    "print('best validation accuracy achieved during cross-validation: %f' % best_val)"
   ]
  },
  {
   "cell_type": "code",
   "execution_count": 19,
   "metadata": {
    "scrolled": true
   },
   "outputs": [
    {
     "name": "stdout",
     "output_type": "stream",
     "text": [
      "softmax on raw pixels final test set accuracy: 0.334000\n"
     ]
    }
   ],
   "source": [
    "# evaluate on test set\n",
    "# Evaluate the best softmax on test set\n",
    "y_test_pred = best_softmax.predict(X_test)\n",
    "test_accuracy = np.mean(y_test == y_test_pred)\n",
    "print('softmax on raw pixels final test set accuracy: %f' % (test_accuracy, ))"
   ]
  },
  {
   "cell_type": "markdown",
   "metadata": {
    "tags": [
     "pdf-inline"
    ]
   },
   "source": [
    "**Inline Question 2** - *True or False*\n",
    "\n",
    "Suppose the overall training loss is defined as the sum of the per-datapoint loss over all training examples. It is possible to add a new datapoint to a training set that would leave the SVM loss unchanged, but this is not the case with the Softmax classifier loss.\n",
    "\n",
    "$\\color{blue}{\\textit Your Answer:}$\n",
    "\n",
    "\n",
    "$\\color{blue}{\\textit Your Explanation:}$\n",
    "\n"
   ]
  },
  {
   "cell_type": "code",
   "execution_count": 20,
   "metadata": {},
   "outputs": [
    {
     "data": {
      "image/png": "[encoded data removed]",
      "text/plain": [
       "<Figure size 720x576 with 10 Axes>"
      ]
     },
     "metadata": {
      "needs_background": "light"
     },
     "output_type": "display_data"
    }
   ],
   "source": [
    "# Visualize the learned weights for each class\n",
    "w = best_softmax.W[:-1,:] # strip out the bias\n",
    "w = w.reshape(32, 32, 3, 10)\n",
    "\n",
    "w_min, w_max = np.min(w), np.max(w)\n",
    "\n",
    "classes = ['plane', 'car', 'bird', 'cat', 'deer', 'dog', 'frog', 'horse', 'ship', 'truck']\n",
    "for i in range(10):\n",
    "    plt.subplot(2, 5, i + 1)\n",
    "    \n",
    "    # Rescale the weights to be between 0 and 255\n",
    "    wimg = 255.0 * (w[:, :, :, i].squeeze() - w_min) / (w_max - w_min)\n",
    "    plt.imshow(wimg.astype('uint8'))\n",
    "    plt.axis('off')\n",
    "    plt.title(classes[i])"
   ]
  },
  {
   "cell_type": "code",
   "execution_count": null,
   "metadata": {},
   "outputs": [],
   "source": []
  }
 ],
 "metadata": {
  "kernelspec": {
   "display_name": "Python 3",
   "language": "python",
   "name": "python3"
  },
  "language_info": {
   "codemirror_mode": {
    "name": "ipython",
    "version": 3
   },
   "file_extension": ".py",
   "mimetype": "text/x-python",
   "name": "python",
   "nbconvert_exporter": "python",
   "pygments_lexer": "ipython3",
   "version": "3.7.5"
  }
 },
 "nbformat": 4,
 "nbformat_minor": 1
}
